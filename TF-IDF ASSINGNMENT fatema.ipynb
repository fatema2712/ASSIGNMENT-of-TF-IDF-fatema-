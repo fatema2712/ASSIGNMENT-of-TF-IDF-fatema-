{
 "cells": [
  {
   "cell_type": "code",
   "execution_count": 1,
   "id": "402708fb-ec9a-4019-bada-1d1a1edc48b6",
   "metadata": {},
   "outputs": [],
   "source": [
    "A = \"The city was buzzing with excitement as the local basketball team prepared for the championship. \\\n",
    "Fans gathered in the arena, waving flags and chanting for their favorite players. The match promised \\\n",
    "to be a thrilling contest of skill and teamwork.\"\n",
    "\n",
    "B = \"Meanwhile, across town, a marathon was taking place. Thousands of runners filled the streets, \\\n",
    "each determined to cross the finish line. Spectators stood along the route, clapping and shouting words\\\n",
    "of encouragement.\"\n",
    "\n",
    "C = \"As the marathon continued, a stray dog ran alongside the runners for several kilometers. People \\\n",
    "smiled and cheered for the dog, who seemed as determined as the athletes. It quickly became the \\\n",
    "highlight of the race, and photos of the running dog went viral online.\"\n",
    "\n",
    "D = \"At the same time, engineers were testing a new fitness tracking app. The app recorded heart rate,\\\n",
    "steps, and speed in real time, giving both runners and fans detailed statistics. Many marathon \\\n",
    "participants used it to monitor their performance.\"\n",
    "\n",
    "E = \"In another part of the city, a robotics exhibition showcased drones designed to film live sports \\\n",
    "events. These drones could follow players automatically, capturing aerial footage and streaming it \\\n",
    "directly to online platforms.\"\n"
   ]
  },
  {
   "cell_type": "markdown",
   "id": "b17ff828-3ec0-4e36-b204-78fcea4f53fa",
   "metadata": {},
   "source": [
    "**LOWER CASE:**"
   ]
  },
  {
   "cell_type": "code",
   "execution_count": 3,
   "id": "8506c15e-02fa-4a86-878a-3f20d615b746",
   "metadata": {},
   "outputs": [],
   "source": [
    "A = A.lower()\n",
    "B = B.lower()\n",
    "C = C.lower()\n",
    "D = D.lower()\n",
    "E = E.lower()"
   ]
  },
  {
   "cell_type": "markdown",
   "id": "3356f74b-6a60-476c-ba11-e8c097dbbc73",
   "metadata": {},
   "source": [
    "**DIVIDE WORDS:**"
   ]
  },
  {
   "cell_type": "code",
   "execution_count": 4,
   "id": "0730f2a8-ef98-4d44-9067-2a825ae1aec9",
   "metadata": {},
   "outputs": [],
   "source": [
    "word1 = A.split()\n",
    "word2 = B.split()\n",
    "word3 = C.split()\n",
    "word4 = D.split()\n",
    "word5 = E.split()"
   ]
  },
  {
   "cell_type": "markdown",
   "id": "d6e69068-30f1-4bd1-8469-42dd612c3546",
   "metadata": {},
   "source": [
    "**VOCABULARY BUILD:**"
   ]
  },
  {
   "cell_type": "code",
   "execution_count": 6,
   "id": "23bce3e4-0750-4833-b120-2f7abf43337a",
   "metadata": {},
   "outputs": [],
   "source": [
    "word_list = []\n",
    "for w in word1:\n",
    "    word_list.append(w)\n",
    "for w in word2:\n",
    "    word_list.append(w)\n",
    "for w in word3:\n",
    "    word_list.append(w)\n",
    "for w in word4:\n",
    "  word_list.append(w)\n",
    "for w in word5:\n",
    "  word_list.append(w)\n",
    "\n",
    "word_list = list(set(word_list))\n"
   ]
  },
  {
   "cell_type": "markdown",
   "id": "94c58a7c-1863-4342-9133-cc398da6b47c",
   "metadata": {},
   "source": [
    "**WORD LIST PRINT:**"
   ]
  },
  {
   "cell_type": "code",
   "execution_count": 7,
   "id": "ca1fdece-7c24-46e4-a932-b5c4f06e7b81",
   "metadata": {},
   "outputs": [
    {
     "name": "stdout",
     "output_type": "stream",
     "text": [
      "['became', 'thrilling', 'several', 'town,', 'were', 'favorite', 'wordsof', 'who', 'their', 'gathered', 'athletes.', 'shouting', 'monitor', 'fans', 'stood', 'aerial', 'the', 'new', 'film', 'live', 'prepared', 'people', 'kilometers.', 'players', 'and', 'stray', 'both', 'contest', 'arena,', 'spectators', 'race,', 'place.', 'directly', 'clapping', 'online', 'photos', 'chanting', 'fitness', 'streets,', 'flags', 'viral', 'tracking', 'match', 'skill', 'be', 'dog', 'running', 'of', 'another', 'sports', 'speed', 'championship.', 'exhibition', 'basketball', 'cheered', 'could', 'teamwork.', 'alongside', 'these', 'marathon', 'drones', 'across', 'a', 'quickly', 'smiled', 'to', 'seemed', 'went', 'heart', 'detailed', 'city,', 'continued,', 'finish', 'with', 'participants', 'taking', 'app.', 'real', 'waving', 'cross', 'giving', 'runners', 'each', 'thousands', 'filled', 'encouragement.', 'performance.', 'players.', 'dog,', 'footage', 'in', 'robotics', 'for', 'platforms.', 'time,', 'used', 'rate,steps,', 'promised', 'excitement', 'same', 'many', 'designed', 'as', 'showcased', 'local', 'engineers', 'testing', 'automatically,', 'app', 'capturing', 'it', 'along', 'statistics.', 'events.', 'online.', 'route,', 'at', 'was', 'ran', 'determined', 'recorded', 'streaming', 'line.', 'buzzing', 'follow', 'city', 'meanwhile,', 'part', 'team', 'highlight']\n"
     ]
    }
   ],
   "source": [
    "print(word_list)"
   ]
  },
  {
   "cell_type": "markdown",
   "id": "38d8bcca-d408-46ff-b4f5-ca811761a899",
   "metadata": {},
   "source": [
    "**STOP WORD REMOVE:**"
   ]
  },
  {
   "cell_type": "code",
   "execution_count": 9,
   "id": "a5a4108b-0ad7-402c-bd2c-634429ffe552",
   "metadata": {},
   "outputs": [
    {
     "name": "stdout",
     "output_type": "stream",
     "text": [
      "the 9.62566844919786\n",
      "and 4.278074866310161\n",
      "of 2.6737967914438503\n",
      "a 2.6737967914438503\n",
      "to 2.6737967914438503\n",
      "for 2.1390374331550803\n",
      "as 2.1390374331550803\n",
      "['the', 'and', 'of', 'a', 'to', 'for', 'as']\n"
     ]
    }
   ],
   "source": [
    "stop_words = []\n",
    "for w in word_list:\n",
    "    total = ((word1.count(w) + word2.count(w) + word3.count(w) + word4.count(w) + word5.count(w))*100) / (len(word1)+len(word2)+len(word3)+len(word4)+len(word5))\n",
    "    if total >1.8:\n",
    "        stop_words.append(w)\n",
    "        print(w,total)\n",
    "        \n",
    "print(stop_words)       "
   ]
  },
  {
   "cell_type": "code",
   "execution_count": 12,
   "id": "3d348a1d-1389-472b-ade2-ec8f64a10afe",
   "metadata": {},
   "outputs": [
    {
     "data": {
      "text/plain": [
       "['became',\n",
       " 'thrilling',\n",
       " 'several',\n",
       " 'town,',\n",
       " 'were',\n",
       " 'favorite',\n",
       " 'wordsof',\n",
       " 'who',\n",
       " 'their',\n",
       " 'gathered',\n",
       " 'athletes.',\n",
       " 'shouting',\n",
       " 'monitor',\n",
       " 'fans',\n",
       " 'stood',\n",
       " 'aerial',\n",
       " 'new',\n",
       " 'film',\n",
       " 'live',\n",
       " 'prepared',\n",
       " 'people',\n",
       " 'kilometers.',\n",
       " 'players',\n",
       " 'stray',\n",
       " 'both',\n",
       " 'contest',\n",
       " 'arena,',\n",
       " 'spectators',\n",
       " 'race,',\n",
       " 'place.',\n",
       " 'directly',\n",
       " 'clapping',\n",
       " 'online',\n",
       " 'photos',\n",
       " 'chanting',\n",
       " 'fitness',\n",
       " 'streets,',\n",
       " 'flags',\n",
       " 'viral',\n",
       " 'tracking',\n",
       " 'match',\n",
       " 'skill',\n",
       " 'be',\n",
       " 'dog',\n",
       " 'running',\n",
       " 'another',\n",
       " 'sports',\n",
       " 'speed',\n",
       " 'championship.',\n",
       " 'exhibition',\n",
       " 'basketball',\n",
       " 'cheered',\n",
       " 'could',\n",
       " 'teamwork.',\n",
       " 'alongside',\n",
       " 'these',\n",
       " 'marathon',\n",
       " 'drones',\n",
       " 'across',\n",
       " 'quickly',\n",
       " 'smiled',\n",
       " 'seemed',\n",
       " 'went',\n",
       " 'heart',\n",
       " 'detailed',\n",
       " 'city,',\n",
       " 'continued,',\n",
       " 'finish',\n",
       " 'with',\n",
       " 'participants',\n",
       " 'taking',\n",
       " 'app.',\n",
       " 'real',\n",
       " 'waving',\n",
       " 'cross',\n",
       " 'giving',\n",
       " 'runners',\n",
       " 'each',\n",
       " 'thousands',\n",
       " 'filled',\n",
       " 'encouragement.',\n",
       " 'performance.',\n",
       " 'players.',\n",
       " 'dog,',\n",
       " 'footage',\n",
       " 'in',\n",
       " 'robotics',\n",
       " 'platforms.',\n",
       " 'time,',\n",
       " 'used',\n",
       " 'rate,steps,',\n",
       " 'promised',\n",
       " 'excitement',\n",
       " 'same',\n",
       " 'many',\n",
       " 'designed',\n",
       " 'showcased',\n",
       " 'local',\n",
       " 'engineers',\n",
       " 'testing',\n",
       " 'automatically,',\n",
       " 'app',\n",
       " 'capturing',\n",
       " 'it',\n",
       " 'along',\n",
       " 'statistics.',\n",
       " 'events.',\n",
       " 'online.',\n",
       " 'route,',\n",
       " 'at',\n",
       " 'was',\n",
       " 'ran',\n",
       " 'determined',\n",
       " 'recorded',\n",
       " 'streaming',\n",
       " 'line.',\n",
       " 'buzzing',\n",
       " 'follow',\n",
       " 'city',\n",
       " 'meanwhile,',\n",
       " 'part',\n",
       " 'team',\n",
       " 'highlight']"
      ]
     },
     "execution_count": 12,
     "metadata": {},
     "output_type": "execute_result"
    }
   ],
   "source": [
    "word_list = [w for w in word_list if w not in stop_words]\n",
    "word_list"
   ]
  },
  {
   "cell_type": "markdown",
   "id": "618bcd8f-0a89-40bc-8db6-6a42f4dd5d04",
   "metadata": {},
   "source": [
    "**FREQUENCY COUNT:**"
   ]
  },
  {
   "cell_type": "code",
   "execution_count": 13,
   "id": "9af0cd9e-ea0f-485d-b9f9-665dca55b5d3",
   "metadata": {},
   "outputs": [],
   "source": [
    "word_count1 = []\n",
    "word_count2 = []\n",
    "word_count3 = []\n",
    "word_count4 = []\n",
    "word_count5 = []\n",
    "\n",
    "for w in word_list:\n",
    "    word_count1.append(word1.count(w))\n",
    "    word_count2.append(word2.count(w))\n",
    "    word_count3.append(word3.count(w))\n",
    "    word_count4.append(word4.count(w))\n",
    "    word_count5.append(word5.count(w))"
   ]
  },
  {
   "cell_type": "code",
   "execution_count": 14,
   "id": "1d10a476-2367-4b17-8ba9-c6033b263723",
   "metadata": {},
   "outputs": [
    {
     "name": "stdout",
     "output_type": "stream",
     "text": [
      "['became', 'thrilling', 'several', 'town,', 'were', 'favorite', 'wordsof', 'who', 'their', 'gathered', 'athletes.', 'shouting', 'monitor', 'fans', 'stood', 'aerial', 'new', 'film', 'live', 'prepared', 'people', 'kilometers.', 'players', 'stray', 'both', 'contest', 'arena,', 'spectators', 'race,', 'place.', 'directly', 'clapping', 'online', 'photos', 'chanting', 'fitness', 'streets,', 'flags', 'viral', 'tracking', 'match', 'skill', 'be', 'dog', 'running', 'another', 'sports', 'speed', 'championship.', 'exhibition', 'basketball', 'cheered', 'could', 'teamwork.', 'alongside', 'these', 'marathon', 'drones', 'across', 'quickly', 'smiled', 'seemed', 'went', 'heart', 'detailed', 'city,', 'continued,', 'finish', 'with', 'participants', 'taking', 'app.', 'real', 'waving', 'cross', 'giving', 'runners', 'each', 'thousands', 'filled', 'encouragement.', 'performance.', 'players.', 'dog,', 'footage', 'in', 'robotics', 'platforms.', 'time,', 'used', 'rate,steps,', 'promised', 'excitement', 'same', 'many', 'designed', 'showcased', 'local', 'engineers', 'testing', 'automatically,', 'app', 'capturing', 'it', 'along', 'statistics.', 'events.', 'online.', 'route,', 'at', 'was', 'ran', 'determined', 'recorded', 'streaming', 'line.', 'buzzing', 'follow', 'city', 'meanwhile,', 'part', 'team', 'highlight']\n",
      "[0, 1, 0, 0, 0, 1, 0, 0, 1, 1, 0, 0, 0, 1, 0, 0, 0, 0, 0, 1, 0, 0, 0, 0, 0, 1, 1, 0, 0, 0, 0, 0, 0, 0, 1, 0, 0, 1, 0, 0, 1, 1, 1, 0, 0, 0, 0, 0, 1, 0, 1, 0, 0, 1, 0, 0, 0, 0, 0, 0, 0, 0, 0, 0, 0, 0, 0, 0, 1, 0, 0, 0, 0, 1, 0, 0, 0, 0, 0, 0, 0, 0, 1, 0, 0, 1, 0, 0, 0, 0, 0, 1, 1, 0, 0, 0, 0, 1, 0, 0, 0, 0, 0, 0, 0, 0, 0, 0, 0, 0, 1, 0, 0, 0, 0, 0, 1, 0, 1, 0, 0, 1, 0]\n",
      "[0, 0, 0, 1, 0, 0, 1, 0, 0, 0, 0, 1, 0, 0, 1, 0, 0, 0, 0, 0, 0, 0, 0, 0, 0, 0, 0, 1, 0, 1, 0, 1, 0, 0, 0, 0, 1, 0, 0, 0, 0, 0, 0, 0, 0, 0, 0, 0, 0, 0, 0, 0, 0, 0, 0, 0, 1, 0, 1, 0, 0, 0, 0, 0, 0, 0, 0, 1, 0, 0, 1, 0, 0, 0, 1, 0, 1, 1, 1, 1, 1, 0, 0, 0, 0, 0, 0, 0, 0, 0, 0, 0, 0, 0, 0, 0, 0, 0, 0, 0, 0, 0, 0, 0, 1, 0, 0, 0, 1, 0, 1, 0, 1, 0, 0, 1, 0, 0, 0, 1, 0, 0, 0]\n",
      "[1, 0, 1, 0, 0, 0, 0, 1, 0, 0, 1, 0, 0, 0, 0, 0, 0, 0, 0, 0, 1, 1, 0, 1, 0, 0, 0, 0, 1, 0, 0, 0, 0, 1, 0, 0, 0, 0, 1, 0, 0, 0, 0, 2, 1, 0, 0, 0, 0, 0, 0, 1, 0, 0, 1, 0, 1, 0, 0, 1, 1, 1, 1, 0, 0, 0, 1, 0, 0, 0, 0, 0, 0, 0, 0, 0, 1, 0, 0, 0, 0, 0, 0, 1, 0, 0, 0, 0, 0, 0, 0, 0, 0, 0, 0, 0, 0, 0, 0, 0, 0, 0, 0, 1, 0, 0, 0, 1, 0, 0, 0, 1, 1, 0, 0, 0, 0, 0, 0, 0, 0, 0, 1]\n",
      "[0, 0, 0, 0, 1, 0, 0, 0, 1, 0, 0, 0, 1, 1, 0, 0, 1, 0, 0, 0, 0, 0, 0, 0, 1, 0, 0, 0, 0, 0, 0, 0, 0, 0, 0, 1, 0, 0, 0, 1, 0, 0, 0, 0, 0, 0, 0, 1, 0, 0, 0, 0, 0, 0, 0, 0, 1, 0, 0, 0, 0, 0, 0, 1, 1, 0, 0, 0, 0, 1, 0, 1, 1, 0, 0, 1, 1, 0, 0, 0, 0, 1, 0, 0, 0, 1, 0, 0, 2, 1, 1, 0, 0, 1, 1, 0, 0, 0, 1, 1, 0, 1, 0, 1, 0, 1, 0, 0, 0, 1, 0, 0, 0, 1, 0, 0, 0, 0, 0, 0, 0, 0, 0]\n",
      "[0, 0, 0, 0, 0, 0, 0, 0, 0, 0, 0, 0, 0, 0, 0, 1, 0, 1, 1, 0, 0, 0, 1, 0, 0, 0, 0, 0, 0, 0, 1, 0, 1, 0, 0, 0, 0, 0, 0, 0, 0, 0, 0, 0, 0, 1, 1, 0, 0, 1, 0, 0, 1, 0, 0, 1, 0, 2, 0, 0, 0, 0, 0, 0, 0, 1, 0, 0, 0, 0, 0, 0, 0, 0, 0, 0, 0, 0, 0, 0, 0, 0, 0, 0, 1, 1, 1, 1, 0, 0, 0, 0, 0, 0, 0, 1, 1, 0, 0, 0, 1, 0, 1, 1, 0, 0, 1, 0, 0, 0, 0, 0, 0, 0, 1, 0, 0, 1, 0, 0, 1, 0, 0]\n"
     ]
    }
   ],
   "source": [
    "print(word_list)\n",
    "print (word_count1)\n",
    "print (word_count2)\n",
    "print (word_count3)\n",
    "print (word_count4)\n",
    "print (word_count5)"
   ]
  },
  {
   "cell_type": "markdown",
   "id": "97e94c24-51cb-4b90-a1a6-8f239fe0ee75",
   "metadata": {},
   "source": [
    "**DISTANCE MEASURE:**"
   ]
  },
  {
   "cell_type": "code",
   "execution_count": 19,
   "id": "bef48083-83e5-4da7-ac6e-61bf57d1e13c",
   "metadata": {},
   "outputs": [],
   "source": [
    "def distance_measure(list1, list2):\n",
    "    s = 0\n",
    "    for i in range(len(list1)):\n",
    "        s = s + (list1[i] - list2[i])*(list1[i] - list2[i])\n",
    "    return s\n",
    "AB = distance_measure(word_count1, word_count2)\n",
    "AC = distance_measure(word_count1, word_count3)\n",
    "AD = distance_measure(word_count1, word_count4)\n",
    "AE = distance_measure(word_count1, word_count5)\n",
    "BC = distance_measure(word_count2, word_count3)\n",
    "BD = distance_measure(word_count2, word_count4)\n",
    "BE = distance_measure(word_count2, word_count5)\n",
    "CD = distance_measure(word_count3, word_count4)\n",
    "CE = distance_measure(word_count3, word_count5)\n",
    "DE = distance_measure(word_count4, word_count5)"
   ]
  },
  {
   "cell_type": "markdown",
   "id": "fd471c36-41e9-44fb-87ea-141ea2b66bac",
   "metadata": {},
   "source": [
    "**DECISION:**"
   ]
  },
  {
   "cell_type": "code",
   "execution_count": 20,
   "id": "386d141d-6f28-41d3-95c8-08555f35bfce",
   "metadata": {},
   "outputs": [
    {
     "name": "stdout",
     "output_type": "stream",
     "text": [
      "Distance Between A & B =  49\n",
      "Distance Between A & C =  57\n",
      "Distance Between A & D =  55\n",
      "Distance Between A & E =  54\n",
      "Distance Between B & C =  48\n",
      "Distance Between B & D =  54\n",
      "Distance Between B & E =  53\n",
      "Distance Between C & D =  58\n",
      "Distance Between C & E =  57\n",
      "Distance Between D & E =  59\n"
     ]
    }
   ],
   "source": [
    "print(\"Distance Between A & B = \", AB)\n",
    "print(\"Distance Between A & C = \", AC)\n",
    "print(\"Distance Between A & D = \", AD)\n",
    "print(\"Distance Between A & E = \", AE)\n",
    "print(\"Distance Between B & C = \", BC)\n",
    "print(\"Distance Between B & D = \", BD)\n",
    "print(\"Distance Between B & E = \", BE)\n",
    "print(\"Distance Between C & D = \", CD)\n",
    "print(\"Distance Between C & E = \", CE)\n",
    "print(\"Distance Between D & E = \", DE)\n",
    "      "
   ]
  },
  {
   "cell_type": "markdown",
   "id": "a25b6522-6294-42a3-873e-6818ba33ca4e",
   "metadata": {},
   "source": [
    "**TERM FREQUENCY:**"
   ]
  },
  {
   "cell_type": "code",
   "execution_count": 32,
   "id": "9e3cb7e9-94f3-4f80-827b-2473e640ba22",
   "metadata": {},
   "outputs": [
    {
     "name": "stdout",
     "output_type": "stream",
     "text": [
      "Distance Between A & B Based on TF=  0.04023608220603538\n",
      "Distance Between A & C Based on TF=  0.03168981481481485\n",
      "Distance Between A & D Based on TF=  0.036473337950138525\n",
      "Distance Between A & E Based on TF=  0.0419897842056933\n",
      "Distance Between B & C Based on TF=  0.03548772497783946\n",
      "Distance Between B & D Based on TF=  0.04512410606449306\n",
      "Distance Between B & E Based on TF=  0.051603921152686597\n",
      "Distance Between C & D Based on TF=  0.03485174925618141\n",
      "Distance Between C & E Based on TF=  0.04009794918885829\n",
      "Distance Between D & E Based on TF=  0.046985849428559066\n"
     ]
    }
   ],
   "source": [
    "#LISTING:\n",
    "\n",
    "tf1 = [] \n",
    "tf2 = [] \n",
    "tf3 = [] \n",
    "tf4 = [] \n",
    "tf5 = [] \n",
    "\n",
    "\n",
    "#TF VALUE FIND:\n",
    "\n",
    "\n",
    "for w in word_list:\n",
    "        tf1.append(word1.count(w)/len(word1))\n",
    "        tf2.append(word2.count(w)/len(word2))\n",
    "        tf3.append(word3.count(w)/len(word3))\n",
    "        tf4.append(word4.count(w)/len(word4))\n",
    "        tf5.append(word5.count(w)/len(word5))\n",
    "    \n",
    "    \n",
    "    #DISTANCE MEASURE:\n",
    "    \n",
    "\n",
    "AB_tf = distance_measure(tf1, tf2)\n",
    "AC_tf = distance_measure(tf1, tf3)\n",
    "AD_tf = distance_measure(tf1, tf4)\n",
    "AE_tf = distance_measure(tf1, tf5)\n",
    "BC_tf = distance_measure(tf2, tf3)\n",
    "BD_tf = distance_measure(tf2, tf4)\n",
    "BE_tf = distance_measure(tf2, tf5)\n",
    "CD_tf = distance_measure(tf3, tf4)\n",
    "CE_tf = distance_measure(tf3, tf5)\n",
    "DE_tf = distance_measure(tf4, tf5)\n",
    "\n",
    "\n",
    "#OUTPUT:\n",
    "\n",
    "\n",
    "print(\"Distance Between A & B Based on TF= \", AB_tf)\n",
    "print(\"Distance Between A & C Based on TF= \", AC_tf)\n",
    "print(\"Distance Between A & D Based on TF= \", AD_tf)\n",
    "print(\"Distance Between A & E Based on TF= \", AE_tf)\n",
    "print(\"Distance Between B & C Based on TF= \", BC_tf)\n",
    "print(\"Distance Between B & D Based on TF= \", BD_tf)\n",
    "print(\"Distance Between B & E Based on TF= \", BE_tf)\n",
    "print(\"Distance Between C & D Based on TF= \", CD_tf)\n",
    "print(\"Distance Between C & E Based on TF= \", CE_tf)\n",
    "print(\"Distance Between D & E Based on TF= \", DE_tf)"
   ]
  },
  {
   "cell_type": "markdown",
   "id": "f3ea0129-ea06-4b9f-88f1-6bc4f3c667d4",
   "metadata": {},
   "source": [
    "**INVERSE DOCUMENT FREQUENCY:**"
   ]
  },
  {
   "cell_type": "code",
   "execution_count": 38,
   "id": "277523c9-6935-4586-a3ac-a4423c9c86af",
   "metadata": {},
   "outputs": [],
   "source": [
    "import math\n",
    "\n",
    "#LISTING:\n",
    "\n",
    "idf = []\n",
    "docu = [A,B,C,D]\n",
    "\n",
    "#IDF VALUES:\n",
    "\n",
    "for w in word_list:\n",
    "    cnt=0\n",
    "    for i in range(len(docu)):\n",
    "        if w in docu[i]:\n",
    "            cnt+=1\n",
    "    if cnt > 0:\n",
    "        idf.append(math.log10(len(docu) / cnt))\n",
    "    else:\n",
    "        idf.append(0)"
   ]
  },
  {
   "cell_type": "code",
   "execution_count": 37,
   "id": "1e4f7025-caa6-4058-b836-6cb7a0554d31",
   "metadata": {},
   "outputs": [
    {
     "name": "stdout",
     "output_type": "stream",
     "text": [
      "Distance Between A & B Based on TF=  0.012263466055036676\n",
      "Distance Between A & C Based on TF=  0.00993248730058636\n",
      "Distance Between A & D Based on TF=  0.011719401862161591\n",
      "Distance Between A & E Based on TF=  0.006223486932799638\n",
      "Distance Between B & C Based on TF=  0.011746242665203802\n",
      "Distance Between B & D Based on TF=  0.013893303157736025\n",
      "Distance Between B & E Based on TF=  0.008211921055983406\n",
      "Distance Between C & D Based on TF=  0.01141439783072996\n",
      "Distance Between C & E Based on TF=  0.00571375938140451\n",
      "Distance Between D & E Based on TF=  0.007735272463718893\n"
     ]
    }
   ],
   "source": [
    "\n",
    "#TF-IDF:\n",
    "\n",
    "tf_idf1=[]\n",
    "tf_idf2=[]\n",
    "tf_idf3=[]\n",
    "tf_idf4=[]\n",
    "tf_idf5=[]\n",
    "for i in range(len(word_list)):\n",
    "        tf_idf1.append(tf1[i]*idf[i])\n",
    "        tf_idf2.append(tf2[i]*idf[i])\n",
    "        tf_idf3.append(tf3[i]*idf[i])\n",
    "        tf_idf4.append(tf4[i]*idf[i])\n",
    "        tf_idf5.append(tf5[i]*idf[i])\n",
    "    \n",
    "    #DISTANCE USING TF-IDF:\n",
    "\n",
    "AB_tf_idf = distance_measure(tf_idf1, tf_idf2)\n",
    "AC_tf_idf = distance_measure(tf_idf1, tf_idf3)\n",
    "AD_tf_idf = distance_measure(tf_idf1, tf_idf4)\n",
    "AE_tf_idf = distance_measure(tf_idf1, tf_idf5)\n",
    "BC_tf_idf = distance_measure(tf_idf2, tf_idf3)\n",
    "BD_tf_idf = distance_measure(tf_idf2, tf_idf4)\n",
    "BE_tf_idf = distance_measure(tf_idf2, tf_idf5)\n",
    "CD_tf_idf = distance_measure(tf_idf3, tf_idf4)\n",
    "CE_tf_idf = distance_measure(tf_idf3, tf_idf5)\n",
    "DE_tf_idf = distance_measure(tf_idf4, tf_idf5)\n",
    "\n",
    "#OUTPUT:\n",
    "\n",
    "print(\"Distance Between A & B Based on TF= \", AB_tf_idf)\n",
    "print(\"Distance Between A & C Based on TF= \", AC_tf_idf)\n",
    "print(\"Distance Between A & D Based on TF= \", AD_tf_idf)\n",
    "print(\"Distance Between A & E Based on TF= \", AE_tf_idf)\n",
    "print(\"Distance Between B & C Based on TF= \", BC_tf_idf)\n",
    "print(\"Distance Between B & D Based on TF= \", BD_tf_idf)\n",
    "print(\"Distance Between B & E Based on TF= \", BE_tf_idf)\n",
    "print(\"Distance Between C & D Based on TF= \", CD_tf_idf)\n",
    "print(\"Distance Between C & E Based on TF= \", CE_tf_idf)\n",
    "print(\"Distance Between D & E Based on TF= \", DE_tf_idf)"
   ]
  },
  {
   "cell_type": "code",
   "execution_count": null,
   "id": "5051968c-6074-4967-a38a-9de18df12968",
   "metadata": {},
   "outputs": [],
   "source": []
  },
  {
   "cell_type": "code",
   "execution_count": null,
   "id": "c3b49b80-b5c1-45e5-81e9-2ee6f491796b",
   "metadata": {},
   "outputs": [],
   "source": []
  }
 ],
 "metadata": {
  "kernelspec": {
   "display_name": "Python 3 (ipykernel)",
   "language": "python",
   "name": "python3"
  },
  "language_info": {
   "codemirror_mode": {
    "name": "ipython",
    "version": 3
   },
   "file_extension": ".py",
   "mimetype": "text/x-python",
   "name": "python",
   "nbconvert_exporter": "python",
   "pygments_lexer": "ipython3",
   "version": "3.13.5"
  }
 },
 "nbformat": 4,
 "nbformat_minor": 5
}
